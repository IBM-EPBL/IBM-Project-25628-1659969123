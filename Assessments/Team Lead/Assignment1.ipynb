{
 "cells": [
  {
   "cell_type": "markdown",
   "metadata": {
    "id": "McSxJAwcOdZ1"
   },
   "source": [
    "# Basic Python"
   ]
  },
  {
   "cell_type": "markdown",
   "metadata": {
    "id": "CU48hgo4Owz5"
   },
   "source": [
    "## 1. Split this string"
   ]
  },
  {
   "cell_type": "code",
   "execution_count": null,
   "metadata": {
    "id": "s07c7JK7Oqt-"
   },
   "outputs": [],
   "source": [
    "s = \"Hi there Sam!\""
   ]
  },
  {
   "cell_type": "code",
   "execution_count": 2,
   "metadata": {
    "id": "6mGVa3SQYLkb"
   },
   "outputs": [
    {
     "name": "stdout",
     "output_type": "stream",
     "text": [
      "['Hi', 'there', 'Sam!']\n"
     ]
    }
   ],
   "source": [
    "s=\"Hi there Sam!\"\n",
    "s=s.split()\n",
    "print(s);"
   ]
  },
  {
   "cell_type": "markdown",
   "metadata": {
    "id": "GH1QBn8HP375"
   },
   "source": [
    "## 2. Use .format() to print the following string. \n",
    "\n",
    "### Output should be: The diameter of Earth is 12742 kilometers."
   ]
  },
  {
   "cell_type": "code",
   "execution_count": null,
   "metadata": {
    "id": "_ZHoml3kPqic"
   },
   "outputs": [],
   "source": [
    "planet = \"Earth\"\n",
    "diameter = 12742"
   ]
  },
  {
   "cell_type": "code",
   "execution_count": 3,
   "metadata": {
    "id": "HyRyJv6CYPb4"
   },
   "outputs": [
    {
     "name": "stdout",
     "output_type": "stream",
     "text": [
      "The diameter of Earth is 12742 kilometers.\n"
     ]
    }
   ],
   "source": [
    "planet = \"Earth\"\n",
    "diameter = 12742\n",
    "print( 'The diameter of {} is {} kilometers.' .format(planet,diameter));"
   ]
  },
  {
   "cell_type": "markdown",
   "metadata": {
    "id": "KE74ZEwkRExZ"
   },
   "source": [
    "## 3. In this nest dictionary grab the word \"hello\""
   ]
  },
  {
   "cell_type": "code",
   "execution_count": null,
   "metadata": {
    "id": "fcVwbCc1QrQI"
   },
   "outputs": [],
   "source": [
    "d = {'k1':[1,2,3,{'tricky':['oh','man','inception',{'target':[1,2,3,'hello']}]}]}"
   ]
  },
  {
   "cell_type": "code",
   "execution_count": 4,
   "metadata": {
    "id": "MvbkMZpXYRaw"
   },
   "outputs": [
    {
     "name": "stdout",
     "output_type": "stream",
     "text": [
      "hello\n"
     ]
    }
   ],
   "source": [
    "d= {'k1':[1,2,3,{'tricky':['oh','man','inception',{'target':[1,2,3,'hello']}]}]}\n",
    "print(d['k1'][3][\"tricky\"][3]['target'][3])"
   ]
  },
  {
   "cell_type": "markdown",
   "metadata": {
    "id": "bw0vVp-9ddjv"
   },
   "source": [
    "# Numpy"
   ]
  },
  {
   "cell_type": "code",
   "execution_count": 7,
   "metadata": {
    "id": "LLiE_TYrhA1O"
   },
   "outputs": [],
   "source": [
    "import numpy as np\n"
   ]
  },
  {
   "cell_type": "markdown",
   "metadata": {
    "id": "wOg8hinbgx30"
   },
   "source": [
    "## 4.1 Create an array of 10 zeros? \n",
    "## 4.2 Create an array of 10 fives?"
   ]
  },
  {
   "cell_type": "code",
   "execution_count": 6,
   "metadata": {
    "id": "NHrirmgCYXvU"
   },
   "outputs": [
    {
     "data": {
      "text/plain": [
       "array([0., 0., 0., 0., 0., 0., 0., 0., 0., 0.])"
      ]
     },
     "execution_count": 6,
     "metadata": {},
     "output_type": "execute_result"
    }
   ],
   "source": [
    "import numpy as np\n",
    "np.zeros(10)"
   ]
  },
  {
   "cell_type": "code",
   "execution_count": 8,
   "metadata": {
    "id": "e4005lsTYXxx"
   },
   "outputs": [
    {
     "data": {
      "text/plain": [
       "array([5., 5., 5., 5., 5., 5., 5., 5., 5., 5.])"
      ]
     },
     "execution_count": 8,
     "metadata": {},
     "output_type": "execute_result"
    }
   ],
   "source": [
    "np.ones(10) * 5"
   ]
  },
  {
   "cell_type": "markdown",
   "metadata": {
    "id": "gZHHDUBvrMX4"
   },
   "source": [
    "## 5. Create an array of all the even integers from 20 to 35"
   ]
  },
  {
   "cell_type": "code",
   "execution_count": 9,
   "metadata": {
    "id": "oAI2tbU2Yag-"
   },
   "outputs": [
    {
     "name": "stdout",
     "output_type": "stream",
     "text": [
      "[20 22 24 26 28 30 32 34]\n"
     ]
    }
   ],
   "source": [
    "import numpy as np\n",
    "print(np.arange(20,35,2))"
   ]
  },
  {
   "cell_type": "markdown",
   "metadata": {
    "id": "NaOM308NsRpZ"
   },
   "source": [
    "## 6. Create a 3x3 matrix with values ranging from 0 to 8"
   ]
  },
  {
   "cell_type": "code",
   "execution_count": 10,
   "metadata": {
    "id": "tOlEVH7BYceE"
   },
   "outputs": [
    {
     "name": "stdout",
     "output_type": "stream",
     "text": [
      "[[0 1 2]\n",
      " [3 4 5]\n",
      " [6 7 8]]\n"
     ]
    }
   ],
   "source": [
    "import numpy as np\n",
    "x=np.arange(0,9).reshape(3,3)\n",
    "print(x)"
   ]
  },
  {
   "cell_type": "markdown",
   "metadata": {
    "id": "hQ0dnhAQuU_p"
   },
   "source": [
    "## 7. Concatenate a and b \n",
    "## a = np.array([1, 2, 3]), b = np.array([4, 5, 6])"
   ]
  },
  {
   "cell_type": "code",
   "execution_count": 11,
   "metadata": {
    "id": "rAPSw97aYfE0"
   },
   "outputs": [
    {
     "data": {
      "text/plain": [
       "array([1, 2, 3, 4, 5, 6])"
      ]
     },
     "execution_count": 11,
     "metadata": {},
     "output_type": "execute_result"
    }
   ],
   "source": [
    "a = np.array([1, 2, 3]) \n",
    "b = np.array([4, 5, 6])\n",
    "np.concatenate((a, b))"
   ]
  },
  {
   "cell_type": "markdown",
   "metadata": {
    "id": "dlPEY9DRwZga"
   },
   "source": [
    "# Pandas"
   ]
  },
  {
   "cell_type": "markdown",
   "metadata": {
    "id": "ijoYW51zwr87"
   },
   "source": [
    "## 8. Create a dataframe with 3 rows and 2 columns"
   ]
  },
  {
   "cell_type": "code",
   "execution_count": 12,
   "metadata": {
    "id": "T5OxJRZ8uvR7"
   },
   "outputs": [],
   "source": [
    "import pandas as pd\n"
   ]
  },
  {
   "cell_type": "code",
   "execution_count": 13,
   "metadata": {
    "id": "xNpI_XXoYhs0"
   },
   "outputs": [
    {
     "data": {
      "text/html": [
       "<div>\n",
       "<style scoped>\n",
       "    .dataframe tbody tr th:only-of-type {\n",
       "        vertical-align: middle;\n",
       "    }\n",
       "\n",
       "    .dataframe tbody tr th {\n",
       "        vertical-align: top;\n",
       "    }\n",
       "\n",
       "    .dataframe thead th {\n",
       "        text-align: right;\n",
       "    }\n",
       "</style>\n",
       "<table border=\"1\" class=\"dataframe\">\n",
       "  <thead>\n",
       "    <tr style=\"text-align: right;\">\n",
       "      <th></th>\n",
       "      <th>Name</th>\n",
       "      <th>Age</th>\n",
       "    </tr>\n",
       "  </thead>\n",
       "  <tbody>\n",
       "    <tr>\n",
       "      <th>0</th>\n",
       "      <td>parkavi</td>\n",
       "      <td>10</td>\n",
       "    </tr>\n",
       "    <tr>\n",
       "      <th>1</th>\n",
       "      <td>akshaya</td>\n",
       "      <td>15</td>\n",
       "    </tr>\n",
       "    <tr>\n",
       "      <th>2</th>\n",
       "      <td>juli</td>\n",
       "      <td>14</td>\n",
       "    </tr>\n",
       "  </tbody>\n",
       "</table>\n",
       "</div>"
      ],
      "text/plain": [
       "      Name  Age\n",
       "0  parkavi   10\n",
       "1  akshaya   15\n",
       "2     juli   14"
      ]
     },
     "execution_count": 13,
     "metadata": {},
     "output_type": "execute_result"
    }
   ],
   "source": [
    "import pandas as pd\n",
    "data = [['parkavi', 10], ['akshaya', 15], ['juli', 14]]\n",
    "df = pd.DataFrame(data, columns=['Name', 'Age'])\n",
    "df"
   ]
  },
  {
   "cell_type": "markdown",
   "metadata": {
    "id": "UXSmdNclyJQD"
   },
   "source": [
    "## 9. Generate the series of dates from 1st Jan, 2023 to 10th Feb, 2023"
   ]
  },
  {
   "cell_type": "code",
   "execution_count": 14,
   "metadata": {
    "id": "dgyC0JhVYl4F"
   },
   "outputs": [
    {
     "name": "stdout",
     "output_type": "stream",
     "text": [
      "2023-01-01 00:00:00\n",
      "2023-01-01 05:00:00\n",
      "2023-01-01 10:00:00\n",
      "2023-01-01 15:00:00\n",
      "2023-01-01 20:00:00\n",
      "2023-01-02 01:00:00\n",
      "2023-01-02 06:00:00\n",
      "2023-01-02 11:00:00\n",
      "2023-01-02 16:00:00\n",
      "2023-01-02 21:00:00\n",
      "2023-01-03 02:00:00\n",
      "2023-01-03 07:00:00\n",
      "2023-01-03 12:00:00\n",
      "2023-01-03 17:00:00\n",
      "2023-01-03 22:00:00\n",
      "2023-01-04 03:00:00\n",
      "2023-01-04 08:00:00\n",
      "2023-01-04 13:00:00\n",
      "2023-01-04 18:00:00\n",
      "2023-01-04 23:00:00\n",
      "2023-01-05 04:00:00\n",
      "2023-01-05 09:00:00\n",
      "2023-01-05 14:00:00\n",
      "2023-01-05 19:00:00\n",
      "2023-01-06 00:00:00\n",
      "2023-01-06 05:00:00\n",
      "2023-01-06 10:00:00\n",
      "2023-01-06 15:00:00\n",
      "2023-01-06 20:00:00\n",
      "2023-01-07 01:00:00\n",
      "2023-01-07 06:00:00\n",
      "2023-01-07 11:00:00\n",
      "2023-01-07 16:00:00\n",
      "2023-01-07 21:00:00\n",
      "2023-01-08 02:00:00\n",
      "2023-01-08 07:00:00\n",
      "2023-01-08 12:00:00\n",
      "2023-01-08 17:00:00\n",
      "2023-01-08 22:00:00\n",
      "2023-01-09 03:00:00\n",
      "2023-01-09 08:00:00\n",
      "2023-01-09 13:00:00\n",
      "2023-01-09 18:00:00\n",
      "2023-01-09 23:00:00\n",
      "2023-01-10 04:00:00\n",
      "2023-01-10 09:00:00\n",
      "2023-01-10 14:00:00\n",
      "2023-01-10 19:00:00\n",
      "2023-01-11 00:00:00\n",
      "2023-01-11 05:00:00\n",
      "2023-01-11 10:00:00\n",
      "2023-01-11 15:00:00\n",
      "2023-01-11 20:00:00\n",
      "2023-01-12 01:00:00\n",
      "2023-01-12 06:00:00\n",
      "2023-01-12 11:00:00\n",
      "2023-01-12 16:00:00\n",
      "2023-01-12 21:00:00\n",
      "2023-01-13 02:00:00\n",
      "2023-01-13 07:00:00\n",
      "2023-01-13 12:00:00\n",
      "2023-01-13 17:00:00\n",
      "2023-01-13 22:00:00\n",
      "2023-01-14 03:00:00\n",
      "2023-01-14 08:00:00\n",
      "2023-01-14 13:00:00\n",
      "2023-01-14 18:00:00\n",
      "2023-01-14 23:00:00\n",
      "2023-01-15 04:00:00\n",
      "2023-01-15 09:00:00\n",
      "2023-01-15 14:00:00\n",
      "2023-01-15 19:00:00\n",
      "2023-01-16 00:00:00\n",
      "2023-01-16 05:00:00\n",
      "2023-01-16 10:00:00\n",
      "2023-01-16 15:00:00\n",
      "2023-01-16 20:00:00\n",
      "2023-01-17 01:00:00\n",
      "2023-01-17 06:00:00\n",
      "2023-01-17 11:00:00\n",
      "2023-01-17 16:00:00\n",
      "2023-01-17 21:00:00\n",
      "2023-01-18 02:00:00\n",
      "2023-01-18 07:00:00\n",
      "2023-01-18 12:00:00\n",
      "2023-01-18 17:00:00\n",
      "2023-01-18 22:00:00\n",
      "2023-01-19 03:00:00\n",
      "2023-01-19 08:00:00\n",
      "2023-01-19 13:00:00\n",
      "2023-01-19 18:00:00\n",
      "2023-01-19 23:00:00\n",
      "2023-01-20 04:00:00\n",
      "2023-01-20 09:00:00\n",
      "2023-01-20 14:00:00\n",
      "2023-01-20 19:00:00\n",
      "2023-01-21 00:00:00\n",
      "2023-01-21 05:00:00\n",
      "2023-01-21 10:00:00\n",
      "2023-01-21 15:00:00\n",
      "2023-01-21 20:00:00\n",
      "2023-01-22 01:00:00\n",
      "2023-01-22 06:00:00\n",
      "2023-01-22 11:00:00\n",
      "2023-01-22 16:00:00\n",
      "2023-01-22 21:00:00\n",
      "2023-01-23 02:00:00\n",
      "2023-01-23 07:00:00\n",
      "2023-01-23 12:00:00\n",
      "2023-01-23 17:00:00\n",
      "2023-01-23 22:00:00\n",
      "2023-01-24 03:00:00\n",
      "2023-01-24 08:00:00\n",
      "2023-01-24 13:00:00\n",
      "2023-01-24 18:00:00\n",
      "2023-01-24 23:00:00\n",
      "2023-01-25 04:00:00\n",
      "2023-01-25 09:00:00\n",
      "2023-01-25 14:00:00\n",
      "2023-01-25 19:00:00\n",
      "2023-01-26 00:00:00\n",
      "2023-01-26 05:00:00\n",
      "2023-01-26 10:00:00\n",
      "2023-01-26 15:00:00\n",
      "2023-01-26 20:00:00\n",
      "2023-01-27 01:00:00\n",
      "2023-01-27 06:00:00\n",
      "2023-01-27 11:00:00\n",
      "2023-01-27 16:00:00\n",
      "2023-01-27 21:00:00\n",
      "2023-01-28 02:00:00\n",
      "2023-01-28 07:00:00\n",
      "2023-01-28 12:00:00\n",
      "2023-01-28 17:00:00\n",
      "2023-01-28 22:00:00\n",
      "2023-01-29 03:00:00\n",
      "2023-01-29 08:00:00\n",
      "2023-01-29 13:00:00\n",
      "2023-01-29 18:00:00\n",
      "2023-01-29 23:00:00\n",
      "2023-01-30 04:00:00\n",
      "2023-01-30 09:00:00\n",
      "2023-01-30 14:00:00\n",
      "2023-01-30 19:00:00\n",
      "2023-01-31 00:00:00\n",
      "2023-01-31 05:00:00\n",
      "2023-01-31 10:00:00\n",
      "2023-01-31 15:00:00\n",
      "2023-01-31 20:00:00\n",
      "2023-02-01 01:00:00\n",
      "2023-02-01 06:00:00\n",
      "2023-02-01 11:00:00\n",
      "2023-02-01 16:00:00\n",
      "2023-02-01 21:00:00\n",
      "2023-02-02 02:00:00\n",
      "2023-02-02 07:00:00\n",
      "2023-02-02 12:00:00\n",
      "2023-02-02 17:00:00\n",
      "2023-02-02 22:00:00\n",
      "2023-02-03 03:00:00\n",
      "2023-02-03 08:00:00\n",
      "2023-02-03 13:00:00\n",
      "2023-02-03 18:00:00\n",
      "2023-02-03 23:00:00\n",
      "2023-02-04 04:00:00\n",
      "2023-02-04 09:00:00\n",
      "2023-02-04 14:00:00\n",
      "2023-02-04 19:00:00\n",
      "2023-02-05 00:00:00\n",
      "2023-02-05 05:00:00\n",
      "2023-02-05 10:00:00\n",
      "2023-02-05 15:00:00\n",
      "2023-02-05 20:00:00\n",
      "2023-02-06 01:00:00\n",
      "2023-02-06 06:00:00\n",
      "2023-02-06 11:00:00\n",
      "2023-02-06 16:00:00\n",
      "2023-02-06 21:00:00\n",
      "2023-02-07 02:00:00\n",
      "2023-02-07 07:00:00\n",
      "2023-02-07 12:00:00\n",
      "2023-02-07 17:00:00\n",
      "2023-02-07 22:00:00\n",
      "2023-02-08 03:00:00\n",
      "2023-02-08 08:00:00\n",
      "2023-02-08 13:00:00\n",
      "2023-02-08 18:00:00\n",
      "2023-02-08 23:00:00\n",
      "2023-02-09 04:00:00\n",
      "2023-02-09 09:00:00\n",
      "2023-02-09 14:00:00\n",
      "2023-02-09 19:00:00\n",
      "2023-02-10 00:00:00\n"
     ]
    }
   ],
   "source": [
    "import pandas as pd\n",
    "per1 = pd.date_range(start ='1-1-2023',\n",
    "\t\tend ='02-10-2023', freq ='5H')\n",
    "for val in per1:\n",
    "\tprint(val)"
   ]
  },
  {
   "cell_type": "markdown",
   "metadata": {
    "id": "ZizSetD-y5az"
   },
   "source": [
    "## 10. Create 2D list to DataFrame\n",
    "\n",
    "lists = [[1, 'aaa', 22],\n",
    "         [2, 'bbb', 25],\n",
    "         [3, 'ccc', 24]]"
   ]
  },
  {
   "cell_type": "code",
   "execution_count": 28,
   "metadata": {
    "id": "_XMC8aEt0llB"
   },
   "outputs": [
    {
     "name": "stdout",
     "output_type": "stream",
     "text": [
      "   FName LName  Age\n",
      "0      1   aaa   22\n",
      "1      2   bbb   25\n",
      "2      3   ccc   24\n"
     ]
    }
   ],
   "source": [
    "import pandas as pd \n",
    "lst = [[1, 'aaa', 22], [2, 'bbb', 25], [3, 'ccc', 24]]\n",
    "df=pd.DataFrame(lst, columns=['FName','LName','Age'],) \n",
    "print(df)"
   ]
  },
  {
   "cell_type": "code",
   "execution_count": null,
   "metadata": {},
   "outputs": [],
   "source": []
  },
  {
   "cell_type": "code",
   "execution_count": null,
   "metadata": {},
   "outputs": [],
   "source": []
  }
 ],
 "metadata": {
  "colab": {
   "collapsed_sections": [],
   "provenance": []
  },
  "kernelspec": {
   "display_name": "Python 3 (ipykernel)",
   "language": "python",
   "name": "python3"
  },
  "language_info": {
   "codemirror_mode": {
    "name": "ipython",
    "version": 3
   },
   "file_extension": ".py",
   "mimetype": "text/x-python",
   "name": "python",
   "nbconvert_exporter": "python",
   "pygments_lexer": "ipython3",
   "version": "3.9.12"
  }
 },
 "nbformat": 4,
 "nbformat_minor": 1
}
